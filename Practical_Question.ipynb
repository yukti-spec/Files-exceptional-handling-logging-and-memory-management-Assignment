{
  "nbformat": 4,
  "nbformat_minor": 0,
  "metadata": {
    "colab": {
      "provenance": []
    },
    "kernelspec": {
      "name": "python3",
      "display_name": "Python 3"
    },
    "language_info": {
      "name": "python"
    }
  },
  "cells": [
    {
      "cell_type": "markdown",
      "source": [
        "Question 1. How can you open a file for writing in Python and write a string to it?\n",
        "\n",
        "Ans:  To open a file for writing in Python and write a string to it, you can use the built-in open() function. Here's an example:"
      ],
      "metadata": {
        "id": "HV-ih1hkN6o_"
      }
    },
    {
      "cell_type": "code",
      "source": [
        "with open(\"example.txt\", \"w\") as file:\n",
        "    file.write(\"Hello, world!\")\n"
      ],
      "metadata": {
        "id": "taUrNfiQOJBB"
      },
      "execution_count": 1,
      "outputs": []
    },
    {
      "cell_type": "markdown",
      "source": [
        "Question 2. Write a Python program to read the contents of a file and print each line.\n",
        "\n",
        "Ans:"
      ],
      "metadata": {
        "id": "ayKNvNLeOh-8"
      }
    },
    {
      "cell_type": "code",
      "source": [
        "with open(\"example.txt\", \"r\") as file:\n",
        "    for line in file:\n",
        "        print(line.strip())"
      ],
      "metadata": {
        "colab": {
          "base_uri": "https://localhost:8080/"
        },
        "id": "atq6PMYSO48X",
        "outputId": "ee4acd60-4340-4938-fb66-76c54965a638"
      },
      "execution_count": 2,
      "outputs": [
        {
          "output_type": "stream",
          "name": "stdout",
          "text": [
            "Hello, world!\n"
          ]
        }
      ]
    },
    {
      "cell_type": "markdown",
      "source": [
        "Question 3. How would you handle a case where the file doesn't exist while trying to open it for reading?\n",
        "\n",
        "Ans:"
      ],
      "metadata": {
        "id": "8WqpL2bCPrYt"
      }
    },
    {
      "cell_type": "code",
      "source": [
        "try:\n",
        "    with open(\"nonexistent_file.txt\", \"r\") as file:\n",
        "        for line in file:\n",
        "            print(line.strip())\n",
        "except FileNotFoundError:\n",
        "    print(\"Error: The file does not exist. Please check the file name and try again.\")\n"
      ],
      "metadata": {
        "colab": {
          "base_uri": "https://localhost:8080/"
        },
        "id": "K9mWLFiuSPi3",
        "outputId": "85e3d88e-bf11-4f54-9e10-bffdd81c2b47"
      },
      "execution_count": 3,
      "outputs": [
        {
          "output_type": "stream",
          "name": "stdout",
          "text": [
            "Error: The file does not exist. Please check the file name and try again.\n"
          ]
        }
      ]
    },
    {
      "cell_type": "markdown",
      "source": [
        "Question 4.  Write a Python script that reads from one file and writes its content to another file.\n",
        "\n",
        "Ans:"
      ],
      "metadata": {
        "id": "SciVbUa8SqTk"
      }
    },
    {
      "cell_type": "code",
      "source": [
        "# File paths\n",
        "source_file = \"source.txt\"\n",
        "destination_file = \"destination.txt\"\n",
        "\n",
        "try:\n",
        "    with open(source_file, \"r\") as src:\n",
        "        content = src.read()\n",
        "\n",
        "    with open(destination_file, \"w\") as dest:\n",
        "        dest.write(content)\n",
        "\n",
        "    print(f\"Content copied from '{source_file}' to '{destination_file}' successfully.\")\n",
        "except FileNotFoundError:\n",
        "    print(f\"Error: '{source_file}' does not exist. Please check the file name and try again.\")\n",
        "except Exception as e:\n",
        "    print(f\"An unexpected error occurred: {e}\")\n"
      ],
      "metadata": {
        "colab": {
          "base_uri": "https://localhost:8080/"
        },
        "id": "3uncUZF4TMNA",
        "outputId": "7b11ef3a-0ed2-4f82-e594-1ed8222fae67"
      },
      "execution_count": 4,
      "outputs": [
        {
          "output_type": "stream",
          "name": "stdout",
          "text": [
            "Error: 'source.txt' does not exist. Please check the file name and try again.\n"
          ]
        }
      ]
    },
    {
      "cell_type": "markdown",
      "source": [
        "Question 5.   How would you catch and handle division by zero error in Python?\n",
        "\n",
        "Ans:"
      ],
      "metadata": {
        "id": "dCvvZ7JNTpVg"
      }
    },
    {
      "cell_type": "code",
      "source": [
        "try:\n",
        "    numerator = 10\n",
        "    denominator = 0\n",
        "    result = numerator / denominator\n",
        "    print(f\"Result: {result}\")\n",
        "except ZeroDivisionError:\n",
        "    print(\"Error: Division by zero is not allowed.\")\n"
      ],
      "metadata": {
        "colab": {
          "base_uri": "https://localhost:8080/"
        },
        "id": "e2JzB02cUP5u",
        "outputId": "a548f6be-2d2a-4d3b-ac1e-1df210ae5307"
      },
      "execution_count": 5,
      "outputs": [
        {
          "output_type": "stream",
          "name": "stdout",
          "text": [
            "Error: Division by zero is not allowed.\n"
          ]
        }
      ]
    },
    {
      "cell_type": "markdown",
      "source": [
        "Question 5.  Write a Python program that logs an error message to a log file when a division by zero exception occurs.\n",
        "\n",
        "Ans:"
      ],
      "metadata": {
        "id": "RHsfHrn2Ugn0"
      }
    },
    {
      "cell_type": "code",
      "source": [
        "import logging\n",
        "\n",
        "logging.basicConfig(\n",
        "    filename=\"error_log.txt\",\n",
        "    level=logging.ERROR,\n",
        "    format=\"%(asctime)s - %(levelname)s - %(message)s\"\n",
        ")\n",
        "\n",
        "def safe_division(numerator, denominator):\n",
        "    try:\n",
        "        result = numerator / denominator\n",
        "        print(f\"Result: {result}\")\n",
        "    except ZeroDivisionError:\n",
        "        logging.error(\"Division by zero error occurred.\")\n",
        "        print(\"Error: Division by zero is not allowed.\")\n",
        "\n",
        "# Example usage\n",
        "safe_division(10, 0)\n"
      ],
      "metadata": {
        "colab": {
          "base_uri": "https://localhost:8080/"
        },
        "id": "cNd8CUqUU3EY",
        "outputId": "a2ced484-940b-4d9e-caf3-0776cbf5c6d7"
      },
      "execution_count": 6,
      "outputs": [
        {
          "output_type": "stream",
          "name": "stderr",
          "text": [
            "ERROR:root:Division by zero error occurred.\n"
          ]
        },
        {
          "output_type": "stream",
          "name": "stdout",
          "text": [
            "Error: Division by zero is not allowed.\n"
          ]
        }
      ]
    },
    {
      "cell_type": "markdown",
      "source": [
        "Question 7.  How do you log information at different levels (INFO, ERROR, WARNING) in Python using the logging module.\n",
        "\n",
        "Ans:  \n"
      ],
      "metadata": {
        "id": "VoTt1tByVmw7"
      }
    },
    {
      "cell_type": "code",
      "source": [
        "import logging\n",
        "\n",
        "logging.basicConfig(\n",
        "    filename=\"app.log\",\n",
        "    level=logging.DEBUG,\n",
        "    format=\"%(asctime)s - %(levelname)s - %(message)s\"\n",
        ")\n",
        "\n",
        "\n",
        "logging.debug(\"This is a debug message, useful for troubleshooting.\")\n",
        "logging.info(\"This is an info message, indicating normal operation.\")\n",
        "logging.warning(\"This is a warning message, signaling something unusual.\")\n",
        "logging.error(\"This is an error message, indicating a problem.\")\n",
        "logging.critical(\"This is a critical message, indicating a severe issue.\")\n"
      ],
      "metadata": {
        "colab": {
          "base_uri": "https://localhost:8080/"
        },
        "id": "-eRj__z1ZZSv",
        "outputId": "e1d45a90-3288-4228-af16-eba5b148aef2"
      },
      "execution_count": 7,
      "outputs": [
        {
          "output_type": "stream",
          "name": "stderr",
          "text": [
            "WARNING:root:This is a warning message, signaling something unusual.\n",
            "ERROR:root:This is an error message, indicating a problem.\n",
            "CRITICAL:root:This is a critical message, indicating a severe issue.\n"
          ]
        }
      ]
    },
    {
      "cell_type": "markdown",
      "source": [
        "Question 8.   Write a program to handle a file opening error using exception handling.\n",
        "\n",
        "Ans:"
      ],
      "metadata": {
        "id": "TEHu5Js2ZuRi"
      }
    },
    {
      "cell_type": "code",
      "source": [
        "def open_file(file_name):\n",
        "    try:\n",
        "        with open(file_name, \"r\") as file:\n",
        "            content = file.read()\n",
        "            print(\"File content:\")\n",
        "            print(content)\n",
        "    except FileNotFoundError:\n",
        "        print(f\"Error: The file '{file_name}' was not found.\")\n",
        "    except PermissionError:\n",
        "        print(f\"Error: Permission denied to open the file '{file_name}'.\")\n",
        "    except Exception as e:\n",
        "        print(f\"An unexpected error occurred: {e}\")\n",
        "\n",
        "file_name = input(\"Enter the name of the file to open: \")\n",
        "open_file(file_name)\n"
      ],
      "metadata": {
        "id": "5UKQfRX9apDP"
      },
      "execution_count": null,
      "outputs": []
    },
    {
      "cell_type": "markdown",
      "source": [
        "Question 9.  How can you read a file line by line and store its content in a list in Python?\n",
        "\n",
        "AnS:  "
      ],
      "metadata": {
        "id": "4YXc9mNUaayB"
      }
    },
    {
      "cell_type": "code",
      "source": [
        "def read_file_lines(file_name):\n",
        "    try:\n",
        "        with open(file_name, \"r\") as file:\n",
        "            lines = file.readlines()\n",
        "        return lines\n",
        "    except FileNotFoundError:\n",
        "        print(f\"Error: The file '{file_name}' was not found.\")\n",
        "        return []\n",
        "    except Exception as e:\n",
        "        print(f\"An unexpected error occurred: {e}\")\n",
        "        return []\n",
        "\n",
        "\n",
        "file_name = input(\"Enter the name of the file to read: \")\n",
        "lines = read_file_lines(file_name)\n",
        "\n",
        "if lines:\n",
        "    print(\"File content:\")\n",
        "    for line in lines:\n",
        "        print(line.strip())"
      ],
      "metadata": {
        "id": "kJOGlCMubBtA"
      },
      "execution_count": null,
      "outputs": []
    },
    {
      "cell_type": "markdown",
      "source": [
        "Question 10.  How can you append data to an existing file in Python?\n",
        "\n",
        "Ans: To append data to an existing file in Python, you can open the file in append mode (\"a\") using the open() function. In this mode, the file is opened for writing, but the data is added to the end of the file instead of overwriting the existing content.\n",
        "\n",
        "Here is an example:"
      ],
      "metadata": {
        "id": "b2yzwTLHbPV-"
      }
    },
    {
      "cell_type": "code",
      "source": [
        "def append_to_file(file_name, data):\n",
        "    try:\n",
        "        with open(file_name, \"a\") as file:\n",
        "            file.write(data + \"\\n\")\n",
        "        print(f\"Data successfully appended to '{file_name}'.\")\n",
        "    except Exception as e:\n",
        "        print(f\"An error occurred: {e}\")\n",
        "\n",
        "# Example usage\n",
        "file_name = input(\"Enter the name of the file to append to: \")\n",
        "data = input(\"Enter the data to append: \")\n",
        "\n",
        "append_to_file(file_name, data)\n"
      ],
      "metadata": {
        "id": "xgPpZUqkblc2"
      },
      "execution_count": null,
      "outputs": []
    },
    {
      "cell_type": "markdown",
      "source": [
        "Question 11.  Write a Python program that uses a try-except block to handle an error when attempting to access a\n",
        "dictionary key that doesn't exist.\n",
        "\n",
        "Ans:  To handle an error when attempting to access a dictionary key that doesn't exist, you can use a try-except block to catch the KeyError. Here's an example:\n",
        "\n",
        "Example Code:"
      ],
      "metadata": {
        "id": "PN-kN739bv3-"
      }
    },
    {
      "cell_type": "code",
      "source": [
        "def access_dict_key(dictionary, key):\n",
        "    try:\n",
        "        value = dictionary[key]\n",
        "        print(f\"The value for '{key}' is: {value}\")\n",
        "    except KeyError:\n",
        "        print(f\"Error: The key '{key}' does not exist in the dictionary.\")\n",
        "\n",
        "my_dict = {\"name\": \"Alice\", \"age\": 25, \"city\": \"New York\"}\n",
        "\n",
        "key_to_access = input(\"Enter the key to access: \")\n",
        "access_dict_key(my_dict, key_to_access)\n"
      ],
      "metadata": {
        "id": "hsgox18_cWQ1"
      },
      "execution_count": null,
      "outputs": []
    },
    {
      "cell_type": "markdown",
      "source": [
        "Question 12.  Write a program that demonstrates using multiple except blocks to handle different types of exceptions.\n",
        "\n",
        "Ans: Here’s a Python program that demonstrates how to use multiple except blocks to handle different types of exceptions. The program handles ZeroDivisionError, ValueError, and FileNotFoundError.\n",
        "\n",
        "Example Code:"
      ],
      "metadata": {
        "id": "s58-n2n6cb22"
      }
    },
    {
      "cell_type": "code",
      "source": [
        "def demonstrate_multiple_exceptions():\n",
        "    try:\n",
        "        numerator = int(input(\"Enter a numerator: \"))\n",
        "        denominator = int(input(\"Enter a denominator: \"))\n",
        "        result = numerator / denominator\n",
        "        print(f\"Result: {result}\")\n",
        "\n",
        "        user_input = input(\"Enter a number: \")\n",
        "        number = int(user_input)\n",
        "\n",
        "        filename = input(\"Enter the filename to open: \")\n",
        "        with open(filename, \"r\") as file:\n",
        "            content = file.read()\n",
        "        print(\"File content read successfully.\")\n",
        "\n",
        "    except ZeroDivisionError:\n",
        "        print(\"Error: Cannot divide by zero.\")\n",
        "    except ValueError:\n",
        "        print(\"Error: Invalid input. Please enter a valid number.\")\n",
        "    except FileNotFoundError:\n",
        "        print(\"Error: The file was not found.\")\n",
        "    except Exception as e:\n",
        "        print(f\"An unexpected error occurred: {e}\")\n",
        "\n",
        "demonstrate_multiple_exceptions()\n"
      ],
      "metadata": {
        "id": "ux1WD_Ccc0qG"
      },
      "execution_count": null,
      "outputs": []
    },
    {
      "cell_type": "markdown",
      "source": [
        "Question 13. How would you check if a file exists before attempting to read it in Python?\n",
        "\n",
        "Ans: To check if a file exists before attempting to read it in Python, you can use the os.path.exists() method or the Path.exists() method from the pathlib module. Here's how you can do it:"
      ],
      "metadata": {
        "id": "DQgiUQTJdGqi"
      }
    },
    {
      "cell_type": "code",
      "source": [
        "import os\n",
        "\n",
        "def read_file_if_exists(file_name):\n",
        "    if os.path.exists(file_name):\n",
        "        with open(file_name, 'r') as file:\n",
        "            content = file.read()\n",
        "            print(\"File content:\")\n",
        "            print(content)\n",
        "    else:\n",
        "        print(f\"Error: The file '{file_name}' does not exist.\")\n",
        "\n",
        "# Example usage\n",
        "file_name = input(\"Enter the name of the file to read: \")\n",
        "read_file_if_exists(file_name)\n"
      ],
      "metadata": {
        "id": "TIm1kn-EdgE_"
      },
      "execution_count": null,
      "outputs": []
    },
    {
      "cell_type": "markdown",
      "source": [
        "Question 14.  Write a program that uses the logging module to log both informational and error messages.\n",
        "\n",
        "Ans:"
      ],
      "metadata": {
        "id": "4zhfg6AXdrHr"
      }
    },
    {
      "cell_type": "code",
      "source": [
        "import logging\n",
        "\n",
        "# Configure logging settings\n",
        "logging.basicConfig(\n",
        "    filename=\"app.log\",        # Log file name\n",
        "    level=logging.DEBUG,       # Log level, capturing DEBUG and above (INFO, WARNING, ERROR, CRITICAL)\n",
        "    format=\"%(asctime)s - %(levelname)s - %(message)s\"  # Log message format\n",
        ")\n",
        "\n",
        "def log_messages():\n",
        "    try:\n",
        "        logging.info(\"The program started successfully.\")\n",
        "\n",
        "        x = 5 / 0\n",
        "\n",
        "    except ZeroDivisionError as e:\n",
        "\n",
        "        logging.error(f\"Error occurred: {e}\")\n",
        "\n",
        "    finally:\n",
        "        logging.info(\"Program execution finished.\")\n",
        "\n",
        "# Example usage\n",
        "log_messages()\n"
      ],
      "metadata": {
        "id": "0qxlXxdwd_1b"
      },
      "execution_count": null,
      "outputs": []
    },
    {
      "cell_type": "markdown",
      "source": [
        "Question 15. Write a Python program that prints the content of a file and handles the case when the file is empty.\n",
        "\n",
        "Ans:  "
      ],
      "metadata": {
        "id": "n1ybirF5eLB1"
      }
    },
    {
      "cell_type": "code",
      "source": [
        "def print_file_content(file_name):\n",
        "    try:\n",
        "        with open(file_name, \"r\") as file:\n",
        "            content = file.read()\n",
        "\n",
        "            if content:\n",
        "                print(\"File content:\")\n",
        "                print(content)\n",
        "            else:\n",
        "                print(f\"The file '{file_name}' is empty.\")\n",
        "    except FileNotFoundError:\n",
        "        print(f\"Error: The file '{file_name}' does not exist.\")\n",
        "    except Exception as e:\n",
        "        print(f\"An unexpected error occurred: {e}\")\n",
        "\n",
        "# Example usage\n",
        "file_name = input(\"Enter the name of the file to read: \")\n",
        "print_file_content(file_name)\n"
      ],
      "metadata": {
        "id": "VU2MZZn7ef9t"
      },
      "execution_count": null,
      "outputs": []
    },
    {
      "cell_type": "markdown",
      "source": [
        "Question 16.  Demonstrate how to use memory profiling to check the memory usage of a small program.\n",
        "\n",
        "Ans:  To demonstrate memory profiling in Python, you can use the memory_profiler module, which helps to track memory usage during the execution of a program. This can be particularly useful for identifying parts of the code that consume a lot of memory."
      ],
      "metadata": {
        "id": "sj-zqw7JetoG"
      }
    },
    {
      "cell_type": "code",
      "source": [
        "from memory_profiler import profile\n",
        "\n",
        "@profile\n",
        "def my_function():\n",
        "    a = [1] * (10**6)  # Creating a large list\n",
        "    b = [2] * (2 * 10**7)  # Creating an even larger list\n",
        "    del a  # Delete a to free up memory\n",
        "    c = [3] * (10**6)  # Creating another large list\n",
        "    return c\n",
        "\n",
        "if __name__ == '__main__':\n",
        "    my_function()\n"
      ],
      "metadata": {
        "id": "twqIstXYfZ1r"
      },
      "execution_count": null,
      "outputs": []
    },
    {
      "cell_type": "markdown",
      "source": [
        "Question 17.  Write a Python program to create and write a list of numbers to a file, one number per line.\n",
        "\n",
        "Ans:  "
      ],
      "metadata": {
        "id": "0Mz153LOfh3_"
      }
    },
    {
      "cell_type": "code",
      "source": [
        "def write_numbers_to_file(file_name, numbers):\n",
        "    try:\n",
        "        with open(file_name, 'w') as file:\n",
        "            for number in numbers:\n",
        "                file.write(f\"{number}\\n\")\n",
        "        print(f\"Numbers have been written to '{file_name}' successfully.\")\n",
        "    except Exception as e:\n",
        "        print(f\"An error occurred: {e}\")\n",
        "\n",
        "# Example usage\n",
        "numbers_list = [1, 2, 3, 4, 5, 6, 7, 8, 9, 10]  # List of numbers to write\n",
        "file_name = \"numbers.txt\"  # File where numbers will be written\n",
        "write_numbers_to_file(file_name, numbers_list)\n"
      ],
      "metadata": {
        "id": "o_7ncPxSfzqc"
      },
      "execution_count": null,
      "outputs": []
    },
    {
      "cell_type": "markdown",
      "source": [
        "Question 18.  How would you implement a basic logging setup that logs to a file with rotation after 1MB?\n",
        "\n",
        "Ans: To implement a basic logging setup in Python that logs to a file and rotates the log file after it reaches 1MB, you can use the logging module along with RotatingFileHandler. The RotatingFileHandler allows you to specify a maximum file size, and it will automatically rotate the log file when it exceeds that size.\n",
        "\n",
        "Steps:\n",
        "\n",
        "\n",
        "1. Set up logging: Use the logging module to set up the logging configuration.\n",
        "2. Use RotatingFileHandler: Specify the maximum size for the log file (1MB in this case) and how many backup log files to keep.\n",
        "\n",
        "Example Code:\n",
        "\n",
        "\n",
        "\n",
        "\n",
        "\n"
      ],
      "metadata": {
        "id": "YUgZG0jwgCxs"
      }
    },
    {
      "cell_type": "code",
      "source": [
        "import logging\n",
        "from logging.handlers import RotatingFileHandler\n",
        "\n",
        "def setup_logging():\n",
        "\n",
        "    handler = RotatingFileHandler('app.log', maxBytes=1 * 1024 * 1024, backupCount=3)\n",
        "    handler.setLevel(logging.DEBUG)\n",
        "\n",
        "    formatter = logging.Formatter('%(asctime)s - %(levelname)s - %(message)s')\n",
        "    handler.setFormatter(formatter)\n",
        "\n",
        "    logger = logging.getLogger()\n",
        "    logger.setLevel(logging.DEBUG)\n",
        "    logger.addHandler(handler)\n",
        "\n",
        "# Example usage\n",
        "def main():\n",
        "    setup_logging()\n",
        "\n",
        "    # Log some messages for testing\n",
        "    for i in range(1000):\n",
        "        logging.debug(f\"This is a debug message number {i}\")\n",
        "        logging.info(f\"This is an info message number {i}\")\n",
        "        logging.warning(f\"This is a warning message number {i}\")\n",
        "        logging.error(f\"This is an error message number {i}\")\n",
        "        logging.critical(f\"This is a critical message number {i}\")\n",
        "\n",
        "if __name__ == '__main__':\n",
        "    main()\n"
      ],
      "metadata": {
        "id": "64-aNsDFg2nj"
      },
      "execution_count": null,
      "outputs": []
    },
    {
      "cell_type": "markdown",
      "source": [
        "Question 19. Write a program that handles both IndexError and KeyError using a try-except block.\n",
        "\n",
        "Ans:  "
      ],
      "metadata": {
        "id": "4hvZ4RIhhSxg"
      }
    },
    {
      "cell_type": "code",
      "source": [
        "def handle_errors():\n",
        "    my_list = [1, 2, 3]\n",
        "    my_dict = {\"a\": 1, \"b\": 2, \"c\": 3}\n",
        "\n",
        "    try:\n",
        "        list_value = my_list[5]\n",
        "\n",
        "        dict_value = my_dict[\"d\"]\n",
        "\n",
        "    except IndexError as ie:\n",
        "        print(f\"IndexError occurred: {ie}\")\n",
        "    except KeyError as ke:\n",
        "        print(f\"KeyError occurred: {ke}\")\n",
        "    except Exception as e:\n",
        "        print(f\"An unexpected error occurred: {e}\")\n",
        "\n",
        "# Example usage\n",
        "handle_errors()\n"
      ],
      "metadata": {
        "id": "1epNFyb_hiei"
      },
      "execution_count": null,
      "outputs": []
    },
    {
      "cell_type": "markdown",
      "source": [
        "Question 20. How would you open a file and read its contents using a context manager in Python?\n",
        "\n",
        "Ans:  In Python, you can open a file and read its contents using a context manager (the with statement) to ensure the file is properly closed after use, even if an error occurs during reading.\n",
        "\n",
        "Here's how you can do it:\n",
        "\n",
        "Example Code:"
      ],
      "metadata": {
        "id": "mk3JLFU7huha"
      }
    },
    {
      "cell_type": "code",
      "source": [
        "def read_file(file_name):\n",
        "    try:\n",
        "        with open(file_name, 'r') as file:\n",
        "            content = file.read()\n",
        "            print(\"File content:\")\n",
        "            print(content)\n",
        "    except FileNotFoundError:\n",
        "        print(f\"Error: The file '{file_name}' was not found.\")\n",
        "    except Exception as e:\n",
        "        print(f\"An unexpected error occurred: {e}\")\n",
        "\n",
        "file_name = \"example.txt\"\n",
        "read_file(file_name)\n"
      ],
      "metadata": {
        "id": "F4akkK1RiEC9"
      },
      "execution_count": null,
      "outputs": []
    },
    {
      "cell_type": "markdown",
      "source": [
        "Question 21.  Write a Python program that reads a file and prints the number of occurrences of a specific word.\n",
        "\n",
        "Ans:  "
      ],
      "metadata": {
        "id": "jpn8D5wxiOz-"
      }
    },
    {
      "cell_type": "code",
      "source": [
        "def count_word_occurrences(file_name, word_to_count):\n",
        "    try:\n",
        "        with open(file_name, 'r') as file:\n",
        "            content = file.read()\n",
        "\n",
        "            word_count = content.lower().split().count(word_to_count.lower())\n",
        "\n",
        "        print(f\"The word '{word_to_count}' occurred {word_count} times in the file.\")\n",
        "\n",
        "    except FileNotFoundError:\n",
        "        print(f\"Error: The file '{file_name}' was not found.\")\n",
        "    except Exception as e:\n",
        "        print(f\"An unexpected error occurred: {e}\")\n",
        "\n",
        "# Example usage\n",
        "file_name = \"example.txt\"\n",
        "word_to_count = \"hello\"\n",
        "count_word_occurrences(file_name, word_to_count)\n"
      ],
      "metadata": {
        "id": "PO_EA0-8idHb"
      },
      "execution_count": null,
      "outputs": []
    },
    {
      "cell_type": "markdown",
      "source": [
        "Question 22.  How can you check if a file is empty before attempting to read its contents?\n",
        "\n",
        "Ans:  "
      ],
      "metadata": {
        "id": "J42oI5cSioPl"
      }
    },
    {
      "cell_type": "code",
      "source": [
        "import os\n",
        "\n",
        "def read_file_if_not_empty(file_name):\n",
        "    try:\n",
        "        if os.path.exists(file_name) and os.path.getsize(file_name) > 0:\n",
        "            with open(file_name, 'r') as file:\n",
        "                content = file.read()\n",
        "            print(\"File content:\")\n",
        "            print(content)\n",
        "        else:\n",
        "            print(f\"The file '{file_name}' is empty or doesn't exist.\")\n",
        "\n",
        "    except Exception as e:\n",
        "        print(f\"An error occurred: {e}\")\n",
        "\n",
        "# Example usage\n",
        "file_name = \"example.txt\"  # Path to the file\n",
        "read_file_if_not_empty(file_name)\n"
      ],
      "metadata": {
        "id": "OxOPFDfvjZYL"
      },
      "execution_count": null,
      "outputs": []
    },
    {
      "cell_type": "markdown",
      "source": [
        "Question 23.  Write a Python program that writes to a log file when an error occurs during file handling.\n",
        "\n",
        "Ans:  "
      ],
      "metadata": {
        "id": "KgLMi_AfjmEX"
      }
    },
    {
      "cell_type": "code",
      "source": [
        "import logging\n",
        "\n",
        "def setup_logging():\n",
        "    logging.basicConfig(filename='file_error.log',\n",
        "                        level=logging.ERROR,\n",
        "                        format='%(asctime)s - %(levelname)s - %(message)s')\n",
        "\n",
        "def write_to_file(file_name, content):\n",
        "    try:\n",
        "        with open(file_name, 'w') as file:\n",
        "            file.write(content)\n",
        "        print(f\"Content successfully written to {file_name}\")\n",
        "    except Exception as e:\n",
        "        logging.error(f\"Error occurred while writing to the file '{file_name}': {e}\")\n",
        "        print(f\"An error occurred while writing to the file. Check the log file for details.\")\n",
        "\n",
        "def read_from_file(file_name):\n",
        "    try:\n",
        "\n",
        "        with open(file_name, 'r') as file:\n",
        "            content = file.read()\n",
        "            print(content)\n",
        "    except Exception as e:\n",
        "        logging.error(f\"Error occurred while reading from the file '{file_name}': {e}\")\n",
        "        print(f\"An error occurred while reading the file. Check the log file for details.\")\n",
        "\n",
        "# Example usage\n",
        "setup_logging()  # Set up the logging configuration\n",
        "\n",
        "# Try writing to a file\n",
        "write_to_file(\"example.txt\", \"This is some sample content.\")\n",
        "\n",
        "# Try reading from a file\n",
        "read_from_file(\"example.txt\")\n",
        "\n",
        "# Try reading from a non-existent file to trigger an error\n",
        "read_from_file(\"non_existent_file.txt\")\n"
      ],
      "metadata": {
        "id": "mlWQ5Immj_8N"
      },
      "execution_count": null,
      "outputs": []
    }
  ]
}